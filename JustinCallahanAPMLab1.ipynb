{
  "nbformat": 4,
  "nbformat_minor": 0,
  "metadata": {
    "colab": {
      "name": "JustinCallahanAPMLab1.ipynb",
      "provenance": []
    },
    "kernelspec": {
      "name": "python3",
      "display_name": "Python 3"
    }
  },
  "cells": [
    {
      "cell_type": "code",
      "metadata": {
        "colab": {
          "base_uri": "https://localhost:8080/",
          "height": 202
        },
        "id": "flNwVSvbVV6F",
        "outputId": "238ce0cd-9c7d-4a24-c877-5878ebff39dc"
      },
      "source": [
        "import pandas as pd\r\n",
        "df = pd.read_csv('L1Data.csv', sep=',')\r\n",
        "df.head()"
      ],
      "execution_count": 7,
      "outputs": [
        {
          "output_type": "execute_result",
          "data": {
            "text/html": [
              "<div>\n",
              "<style scoped>\n",
              "    .dataframe tbody tr th:only-of-type {\n",
              "        vertical-align: middle;\n",
              "    }\n",
              "\n",
              "    .dataframe tbody tr th {\n",
              "        vertical-align: top;\n",
              "    }\n",
              "\n",
              "    .dataframe thead th {\n",
              "        text-align: right;\n",
              "    }\n",
              "</style>\n",
              "<table border=\"1\" class=\"dataframe\">\n",
              "  <thead>\n",
              "    <tr style=\"text-align: right;\">\n",
              "      <th></th>\n",
              "      <th>Class</th>\n",
              "      <th>Age</th>\n",
              "      <th>Funds</th>\n",
              "      <th>Sale</th>\n",
              "    </tr>\n",
              "  </thead>\n",
              "  <tbody>\n",
              "    <tr>\n",
              "      <th>0</th>\n",
              "      <td>Freshmen</td>\n",
              "      <td>18.0</td>\n",
              "      <td>600.0</td>\n",
              "      <td>No</td>\n",
              "    </tr>\n",
              "    <tr>\n",
              "      <th>1</th>\n",
              "      <td>Freshmen</td>\n",
              "      <td>18.0</td>\n",
              "      <td>500.0</td>\n",
              "      <td>No</td>\n",
              "    </tr>\n",
              "    <tr>\n",
              "      <th>2</th>\n",
              "      <td>Freshmen</td>\n",
              "      <td>18.0</td>\n",
              "      <td>600.0</td>\n",
              "      <td>No</td>\n",
              "    </tr>\n",
              "    <tr>\n",
              "      <th>3</th>\n",
              "      <td>Senior</td>\n",
              "      <td>23.0</td>\n",
              "      <td>800.0</td>\n",
              "      <td>No</td>\n",
              "    </tr>\n",
              "    <tr>\n",
              "      <th>4</th>\n",
              "      <td>Junior</td>\n",
              "      <td>21.0</td>\n",
              "      <td>400.0</td>\n",
              "      <td>Yes</td>\n",
              "    </tr>\n",
              "  </tbody>\n",
              "</table>\n",
              "</div>"
            ],
            "text/plain": [
              "      Class   Age  Funds Sale\n",
              "0  Freshmen  18.0  600.0   No\n",
              "1  Freshmen  18.0  500.0   No\n",
              "2  Freshmen  18.0  600.0   No\n",
              "3    Senior  23.0  800.0   No\n",
              "4    Junior  21.0  400.0  Yes"
            ]
          },
          "metadata": {
            "tags": []
          },
          "execution_count": 7
        }
      ]
    },
    {
      "cell_type": "code",
      "metadata": {
        "colab": {
          "base_uri": "https://localhost:8080/"
        },
        "id": "iQwv6ffunYvU",
        "outputId": "105d24a3-27db-41f5-81e0-de9fb533fefb"
      },
      "source": [
        "age_mean = df['Age'].mean()\r\n",
        "df['Age']= df['Age'].fillna(age_mean)\r\n",
        "df['Age']"
      ],
      "execution_count": 9,
      "outputs": [
        {
          "output_type": "execute_result",
          "data": {
            "text/plain": [
              "0     18.000000\n",
              "1     18.000000\n",
              "2     18.000000\n",
              "3     23.000000\n",
              "4     21.000000\n",
              "5     19.000000\n",
              "6     20.000000\n",
              "7     24.000000\n",
              "8     23.000000\n",
              "9     25.000000\n",
              "10    21.000000\n",
              "11    21.000000\n",
              "12    21.772727\n",
              "13    21.000000\n",
              "14    20.000000\n",
              "15    21.000000\n",
              "16    20.000000\n",
              "17    26.000000\n",
              "18    25.000000\n",
              "19    41.000000\n",
              "20    21.772727\n",
              "21    18.000000\n",
              "22    18.000000\n",
              "23    18.000000\n",
              "Name: Age, dtype: float64"
            ]
          },
          "metadata": {
            "tags": []
          },
          "execution_count": 9
        }
      ]
    },
    {
      "cell_type": "code",
      "metadata": {
        "id": "55rDl5FUpDvm"
      },
      "source": [
        "def montyhall4(doors_chosen):\r\n",
        "  if doors_chosen == 1:\r\n",
        "    return \"25%\"\r\n",
        "  elif doors_chosen == 2:\r\n",
        "    return \"33%\"\r\n"
      ],
      "execution_count": 11,
      "outputs": []
    }
  ]
}